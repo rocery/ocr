{
 "cells": [
  {
   "cell_type": "code",
   "execution_count": 49,
   "id": "f961c31e-ea74-4b0e-aa98-51a313be1cf7",
   "metadata": {},
   "outputs": [],
   "source": [
    "from paddleocr import PaddleOCR, draw_ocr\n",
    "import cv2\n",
    "import numpy as np"
   ]
  },
  {
   "cell_type": "code",
   "execution_count": 50,
   "id": "47c0b429-7eeb-4097-a8fc-a04cfd62839c",
   "metadata": {},
   "outputs": [
    {
     "name": "stdout",
     "output_type": "stream",
     "text": [
      "[2024/08/09 15:57:15] ppocr DEBUG: Namespace(help='==SUPPRESS==', use_gpu=False, use_xpu=False, use_npu=False, use_mlu=False, ir_optim=True, use_tensorrt=False, min_subgraph_size=15, precision='fp32', gpu_mem=500, gpu_id=0, image_dir=None, page_num=0, det_algorithm='DB', det_model_dir='/home/sastr/.paddleocr/whl/det/en/en_PP-OCRv3_det_infer', det_limit_side_len=960, det_limit_type='max', det_box_type='quad', det_db_thresh=0.3, det_db_box_thresh=0.6, det_db_unclip_ratio=1.5, max_batch_size=10, use_dilation=False, det_db_score_mode='fast', det_east_score_thresh=0.8, det_east_cover_thresh=0.1, det_east_nms_thresh=0.2, det_sast_score_thresh=0.5, det_sast_nms_thresh=0.2, det_pse_thresh=0, det_pse_box_thresh=0.85, det_pse_min_area=16, det_pse_scale=1, scales=[8, 16, 32], alpha=1.0, beta=1.0, fourier_degree=5, rec_algorithm='SVTR_LCNet', rec_model_dir='/home/sastr/.paddleocr/whl/rec/en/en_PP-OCRv4_rec_infer', rec_image_inverse=True, rec_image_shape='3, 48, 320', rec_batch_num=6, max_text_length=25, rec_char_dict_path='/home/sastr/repo/ocr/venv/lib/python3.12/site-packages/paddleocr/ppocr/utils/en_dict.txt', use_space_char=True, vis_font_path='./doc/fonts/simfang.ttf', drop_score=0.5, e2e_algorithm='PGNet', e2e_model_dir=None, e2e_limit_side_len=768, e2e_limit_type='max', e2e_pgnet_score_thresh=0.5, e2e_char_dict_path='./ppocr/utils/ic15_dict.txt', e2e_pgnet_valid_set='totaltext', e2e_pgnet_mode='fast', use_angle_cls=True, cls_model_dir='/home/sastr/.paddleocr/whl/cls/ch_ppocr_mobile_v2.0_cls_infer', cls_image_shape='3, 48, 192', label_list=['0', '180'], cls_batch_num=6, cls_thresh=0.9, enable_mkldnn=False, cpu_threads=10, use_pdserving=False, warmup=False, sr_model_dir=None, sr_image_shape='3, 32, 128', sr_batch_num=1, draw_img_save_dir='./inference_results', save_crop_res=False, crop_res_save_dir='./output', use_mp=False, total_process_num=1, process_id=0, benchmark=False, save_log_path='./log_output/', show_log=True, use_onnx=False, return_word_box=False, output='./output', table_max_len=488, table_algorithm='TableAttn', table_model_dir=None, merge_no_span_structure=True, table_char_dict_path=None, layout_model_dir=None, layout_dict_path=None, layout_score_threshold=0.5, layout_nms_threshold=0.5, kie_algorithm='LayoutXLM', ser_model_dir=None, re_model_dir=None, use_visual_backbone=True, ser_dict_path='../train_data/XFUND/class_list_xfun.txt', ocr_order_method=None, mode='structure', image_orientation=False, layout=True, table=True, ocr=True, recovery=False, use_pdf2docx_api=False, invert=False, binarize=False, alphacolor=(255, 255, 255), lang='en', det=True, rec=True, type='ocr', savefile=False, ocr_version='PP-OCRv4', structure_version='PP-StructureV2')\n"
     ]
    }
   ],
   "source": [
    "ocr = PaddleOCR(use_angle_cls=True, lang='en')\n",
    "image = cv2.imread('contoh.png')"
   ]
  },
  {
   "cell_type": "code",
   "execution_count": 51,
   "id": "79832911",
   "metadata": {},
   "outputs": [
    {
     "name": "stdout",
     "output_type": "stream",
     "text": [
      "[2024/08/09 15:57:17] ppocr DEBUG: dt_boxes num : 4, elapsed : 0.08639669418334961\n",
      "[2024/08/09 15:57:17] ppocr DEBUG: cls num  : 4, elapsed : 0.02985072135925293\n",
      "[2024/08/09 15:57:17] ppocr DEBUG: rec_res num  : 4, elapsed : 0.3079807758331299\n",
      "[[[131.0, 6.0], [372.0, 6.0], [372.0, 132.0], [131.0, 132.0]], ('9933', 0.9993672370910645)]\n",
      "[[[455.0, 4.0], [573.0, 10.0], [568.0, 131.0], [450.0, 126.0]], ('OF', 0.8204424381256104)]\n",
      "[[[12.0, 15.0], [75.0, 13.0], [78.0, 123.0], [15.0, 124.0]], ('8', 0.6720702648162842)]\n",
      "[[[202.0, 146.0], [362.0, 146.0], [362.0, 191.0], [202.0, 191.0]], ('08.15', 0.9192509651184082)]\n",
      "[[[131.0, 6.0], [372.0, 6.0], [372.0, 132.0], [131.0, 132.0]], [[455.0, 4.0], [573.0, 10.0], [568.0, 131.0], [450.0, 126.0]], [[12.0, 15.0], [75.0, 13.0], [78.0, 123.0], [15.0, 124.0]], [[202.0, 146.0], [362.0, 146.0], [362.0, 191.0], [202.0, 191.0]]]\n",
      "['9933', 'OF', '8', '08.15']\n",
      "[0.9993672370910645, 0.8204424381256104, 0.6720702648162842, 0.9192509651184082]\n"
     ]
    }
   ],
   "source": [
    "result = ocr.ocr(image, cls=True)\n",
    "\n",
    "for idx in range(len(result)):\n",
    "    res = result[idx]\n",
    "    for line in res:\n",
    "        print(line)\n",
    "\n",
    "result = result[0]\n",
    "boxes = [line[0] for line in result]\n",
    "txts = [line[1][0] for line in result]\n",
    "scores = [line[1][1] for line in result]\n",
    "\n",
    "#print(len(boxes)\n",
    "print(boxes)\n",
    "print(txts)\n",
    "print(scores)"
   ]
  },
  {
   "cell_type": "code",
   "execution_count": 47,
   "id": "65e82677",
   "metadata": {},
   "outputs": [
    {
     "name": "stderr",
     "output_type": "stream",
     "text": [
      "qt.qpa.plugin: Could not find the Qt platform plugin \"wayland\" in \"/home/sastr/repo/ocr/venv/lib/python3.12/site-packages/cv2/qt/plugins\"\n"
     ]
    }
   ],
   "source": [
    "# for box in boxes:\n",
    "#     coord = np.array(box[])\n",
    "\n",
    "boxes = [np.array(box, dtype=np.int32).reshape((-1, 1, 2)) for box in boxes]\n",
    "\n",
    "# Draw the bounding boxes on the image\n",
    "for box in boxes:\n",
    "    cv2.polylines(image, [box], isClosed=True, color=(0, 255, 0), thickness=2)\n",
    "# text_position = (coords[0][0][0], coords[0][0][1] - 10)\n",
    "\n",
    "cv2.imshow('Detected Boxes', image)\n",
    "cv2.waitKey(0)\n",
    "cv2.destroyAllWindows()\n"
   ]
  },
  {
   "cell_type": "code",
   "execution_count": null,
   "id": "4b582286",
   "metadata": {},
   "outputs": [],
   "source": []
  }
 ],
 "metadata": {
  "kernelspec": {
   "display_name": "Python 3 (ipykernel)",
   "language": "python",
   "name": "python3"
  },
  "language_info": {
   "codemirror_mode": {
    "name": "ipython",
    "version": 3
   },
   "file_extension": ".py",
   "mimetype": "text/x-python",
   "name": "python",
   "nbconvert_exporter": "python",
   "pygments_lexer": "ipython3",
   "version": "3.12.3"
  }
 },
 "nbformat": 4,
 "nbformat_minor": 5
}
